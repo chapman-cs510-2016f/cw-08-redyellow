{
 "cells": [
  {
   "cell_type": "markdown",
   "metadata": {},
   "source": [
    "# Julia Study\n",
    "\n",
    "## Kaiqin Huang & Nengyin Zhu(Helen)"
   ]
  },
  {
   "cell_type": "markdown",
   "metadata": {},
   "source": [
    "**1. What is the julia syntax for the following? comments, variable declarations, printing output**\n",
    "\n",
    "**Comments:**\n",
    "#Single line comments start with a hash (pound) symbol.\n",
    "#= Multiline comments can be written\n",
    "   by putting '#=' before the text  and '=#'\n",
    "   after the text. They can also be nested.\n",
    "=#\n",
    "\n",
    "**variable declarations**\n",
    "You don't declare variables before assigning to them.\n",
    "\n",
    "**printing output**\n",
    "There are two ways to print output:\n",
    "a. @printf \"%d is less than %f\" 4.5 5.3 # 5 is less than 5.300000\n",
    "b. println(\"I'm Julia. Nice to meet you!\")\n",
    "\n"
   ]
  },
  {
   "cell_type": "code",
   "execution_count": 12,
   "metadata": {
    "collapsed": false
   },
   "outputs": [
    {
     "name": "stdout",
     "output_type": "stream",
     "text": [
      "3 is the length of arrary ['a','b','c']\n",
      "['a','b','c']\n"
     ]
    }
   ],
   "source": [
    "# Variable declariations\n",
    "a=3\n",
    "\n",
    "# arrary\n",
    "b=['a', 'b', 'c']\n",
    "b\n",
    "\n",
    "# printf\n",
    "@printf  \"%d is the length of arrary %s\\n\" a b\n",
    "#or\n",
    "println(b)"
   ]
  },
  {
   "cell_type": "markdown",
   "metadata": {},
   "source": [
    "**2. What are the basic julia data types?  How do you define and use them?**\n",
    "\n",
    "There are several basic types of numbers.int, float, complex, and rational.\n",
    "eg. \n",
    "3 # => 3 (Int64)\n",
    "3.2 # => 3.2 (Float64)\n",
    "2 + 1im # => 2 + 1im (Complex{Int64})\n",
    "2//3 # => 2//3 (Rational{Int64})\n"
   ]
  },
  {
   "cell_type": "code",
   "execution_count": 11,
   "metadata": {
    "collapsed": false
   },
   "outputs": [
    {
     "data": {
      "text/plain": [
       "\"2 + 2 = 4\""
      ]
     },
     "execution_count": 11,
     "metadata": {},
     "output_type": "execute_result"
    }
   ],
   "source": [
    "#All of the normal infix operators are available.\n",
    "1 + 1 \n",
    "8 - 1 \n",
    "10 * 2\n",
    "35 / 5 \n",
    "5 / 2      # dividing an Int by an Int always results in a Float\n",
    "div(5, 2)  # for a truncated result, use div\n",
    "5 \\ 35     # 7.0\n",
    "2 ^ 2      # power, not bitwise xor\n",
    "12 % 10    # mode\n",
    "\n",
    "#Enforce precedence with parentheses\n",
    "(1 + 3) * 2  \n",
    "\n",
    "#Bitwise Operators\n",
    "~2           # bitwise not\n",
    "3 & 5        # bitwise and\n",
    "2 | 4        # bitwise or\n",
    "2 $ 4        # bitwise xor\n",
    "2 >>> 1      # logical shift right\n",
    "2 >> 1       # arithmetic shift right\n",
    "2 << 1       # logical/arithmetic shift left\n",
    "\n",
    "#You can use the bits function to see the binary representation of a number.\n",
    "bits(12345)   #\"0000000000000000000000000000000000000000000000000011000000111001\"\n",
    "bits(12345.0) #\"0100000011001000000111001000000000000000000000000000000000000000\" Don't underestand.\n",
    "\n",
    "#Boolean values are primitives\n",
    "true\n",
    "false\n",
    "\n",
    "#Boolean operators\n",
    "!true  # false\n",
    "!false # true\n",
    "1 == 1 # true\n",
    "2 == 1 # false\n",
    "1 != 1 # false\n",
    "2 != 1 # true\n",
    "1 < 10 # true\n",
    "1 > 10 # false\n",
    "2 <= 2 # true\n",
    "2 >= 2 # true\n",
    "#Comparisons can be chained\n",
    "1 < 2 < 3  # true\n",
    "2 < 3 < 2  # false\n",
    "\n",
    "#Strings are created with \"\n",
    "\"This is a string.\"\n",
    "\n",
    "#Julia has several types of strings, including ASCIIString and UTF8String.\n",
    "#More on this in the Types section.\n",
    "\n",
    "#Character literals are written with '\n",
    "'a'\n",
    "\n",
    "#Some strings can be indexed like an array of characters\n",
    "\"This is a string\"[1] # => 'T' # Julia indexes from 1\n",
    "#However, this is will not work well for UTF8 strings,\n",
    "#so iterating over strings is recommended (map, for loops, etc).\n",
    "\n",
    "#$ can be used for string interpolation:\n",
    "#You can put any Julia expression inside the parentheses.\n",
    "\"2 + 2 = $(2 + 2)\" # \"2 + 2 = 4\"\n"
   ]
  },
  {
   "cell_type": "code",
   "execution_count": 10,
   "metadata": {
    "collapsed": false
   },
   "outputs": [
    {
     "data": {
      "text/plain": [
       "true"
      ]
     },
     "execution_count": 10,
     "metadata": {},
     "output_type": "execute_result"
    }
   ],
   "source": [
    "#String can be compared lexicographically\n",
    "\"good\" > \"bye\" #True\n",
    "\"good\" == \"good\"  #True\n",
    "\"1 + 2 = 3\" == \"1 + 2 = $(1+2)\" #true"
   ]
  },
  {
   "cell_type": "markdown",
   "metadata": {},
   "source": [
    "**3. What basic control structures are available in julia? (for, while, etc.)**\n",
    "\n",
    "Here are some examples as following:"
   ]
  },
  {
   "cell_type": "code",
   "execution_count": 13,
   "metadata": {
    "collapsed": false
   },
   "outputs": [
    {
     "name": "stdout",
     "output_type": "stream",
     "text": [
      "some_var is smaller than 10.\n"
     ]
    }
   ],
   "source": [
    "some_var = 8\n",
    "\n",
    "# Here is an if statement. Indentation is not meaningful in Julia.\n",
    "if some_var > 10\n",
    "    println(\"some_var is totally bigger than 10.\")\n",
    "elseif some_var < 10    # This elseif clause is optional.\n",
    "    println(\"some_var is smaller than 10.\")\n",
    "else                    # The else clause is optional too.\n",
    "    println(\"some_var is indeed 10.\")\n",
    "end"
   ]
  },
  {
   "cell_type": "code",
   "execution_count": 15,
   "metadata": {
    "collapsed": false
   },
   "outputs": [
    {
     "name": "stdout",
     "output_type": "stream",
     "text": [
      "dog is a mammal\n",
      "cat is a mammal\n",
      "mouse is a mammal\n",
      "dog is a mammal\n",
      "cat is a mammal\n",
      "mouse is a mammal\n"
     ]
    }
   ],
   "source": [
    "# For loops iterate over iterables.\n",
    "# Iterable types include Range, Array, Set, Dict, and AbstractString.\n",
    "for animal=[\"dog\", \"cat\", \"mouse\"]\n",
    "    println(\"$animal is a mammal\")\n",
    "    # You can use $ to interpolate variables or expression into strings\n",
    "end\n",
    "# You can use 'in' instead of '='.\n",
    "for animal in [\"dog\", \"cat\", \"mouse\"]\n",
    "    println(\"$animal is a mammal\")\n",
    "end"
   ]
  },
  {
   "cell_type": "code",
   "execution_count": 17,
   "metadata": {
    "collapsed": false
   },
   "outputs": [
    {
     "name": "stdout",
     "output_type": "stream",
     "text": [
      "mouse is a mammal\n",
      "cat is a mammal\n",
      "dog is a mammal\n",
      "mouse is a mammal\n",
      "cat is a mammal\n",
      "dog is a mammal\n"
     ]
    }
   ],
   "source": [
    "# Dict\n",
    "for a in Dict(\"dog\"=>\"mammal\",\"cat\"=>\"mammal\",\"mouse\"=>\"mammal\")\n",
    "    println(\"$(a[1]) is a $(a[2])\")\n",
    "end\n",
    "\n",
    "#or\n",
    "for (k,v) in Dict(\"dog\"=>\"mammal\",\"cat\"=>\"mammal\",\"mouse\"=>\"mammal\")\n",
    "    println(\"$k is a $v\")\n",
    "end"
   ]
  },
  {
   "cell_type": "code",
   "execution_count": 19,
   "metadata": {
    "collapsed": false
   },
   "outputs": [
    {
     "name": "stdout",
     "output_type": "stream",
     "text": [
      "0\n",
      "1\n",
      "2\n",
      "3\n"
     ]
    }
   ],
   "source": [
    "# while\n",
    "x = 0\n",
    "while x < 4\n",
    "    println(x)\n",
    "    x += 1  # Shorthand for x = x + 1\n",
    "end"
   ]
  },
  {
   "cell_type": "markdown",
   "metadata": {},
   "source": [
    "**4. What are some notable differences between Python and julia?  What are some notable similarities?**\n",
    "\n",
    "Difference: \n",
    "\n",
    "1. Python is an object-oriented language, while julia is a homoiconic functional language; For example, in python, you can only define one function with the fuction name, while Jupiter you can define several different functions with the same function name.\n",
    "2. Julis is a a flexible dynamic language, which means it compiles before execute, while Python is an interpreted language, which means it compiles when it execute.   \n",
    "\n",
    "Similarities:\n",
    "\n",
    "Julia provides ease and expressiveness for high-level numerical computing, in the same way as languages such as R, MATLAB, and Python, but also supports general programming. "
   ]
  },
  {
   "cell_type": "code",
   "execution_count": 39,
   "metadata": {
    "collapsed": false
   },
   "outputs": [
    {
     "data": {
      "text/plain": [
       "fib (generic function with 1 method)"
      ]
     },
     "execution_count": 39,
     "metadata": {},
     "output_type": "execute_result"
    }
   ],
   "source": [
    "function fib(n)\n",
    "    fib=Int64[1,1]\n",
    "    i=1\n",
    "    while i<n-1\n",
    "        push!(fib, fib[i]+fib[i+1])\n",
    "        i += 1\n",
    "    end\n",
    "    return fib\n",
    "end"
   ]
  },
  {
   "cell_type": "code",
   "execution_count": 42,
   "metadata": {
    "collapsed": false
   },
   "outputs": [
    {
     "name": "stdout",
     "output_type": "stream",
     "text": [
      "[1,1,2,3,5,8,13,21,34,55,89,144,233,377,610,987,1597,2584,4181,6765,10946,17711,28657,46368,75025,121393,196418,317811,514229,832040,1346269,2178309,3524578,5702887,9227465,14930352,24157817,39088169,63245986,102334155,165580141,267914296,433494437,701408733,1134903170,1836311903,2971215073,4807526976,7778742049,12586269025,20365011074,32951280099,53316291173,86267571272,139583862445,225851433717,365435296162,591286729879,956722026041,1548008755920,2504730781961,4052739537881,6557470319842,10610209857723,17167680177565,27777890035288,44945570212853,72723460248141,117669030460994,190392490709135,308061521170129,498454011879264,806515533049393,1304969544928657,2111485077978050,3416454622906707,5527939700884757,8944394323791464,14472334024676221,23416728348467685,37889062373143906,61305790721611591,99194853094755497,160500643816367088,259695496911122585,420196140727489673,679891637638612258,1100087778366101931,1779979416004714189,2880067194370816120,4660046610375530309,7540113804746346429,-6246583658587674878,1293530146158671551,-4953053512429003327,-3659523366270331776,-8612576878699335103,6174643828739884737,-2437933049959450366,3736710778780434371]"
     ]
    }
   ],
   "source": [
    "print(fib(100))"
   ]
  }
 ],
 "metadata": {
  "kernelspec": {
   "display_name": "Julia",
   "language": "julia",
   "name": "julia"
  },
  "language_info": {
   "file_extension": ".jl",
   "mimetype": "application/julia",
   "name": "julia",
   "version": "0.4.6"
  }
 },
 "nbformat": 4,
 "nbformat_minor": 0
}
